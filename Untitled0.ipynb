{
  "nbformat": 4,
  "nbformat_minor": 0,
  "metadata": {
    "colab": {
      "provenance": [],
      "toc_visible": true,
      "authorship_tag": "ABX9TyPNGqeuN1HZM0tp1eANMWCz",
      "include_colab_link": true
    },
    "kernelspec": {
      "name": "python3",
      "display_name": "Python 3"
    },
    "language_info": {
      "name": "python"
    }
  },
  "cells": [
    {
      "cell_type": "markdown",
      "metadata": {
        "id": "view-in-github",
        "colab_type": "text"
      },
      "source": [
        "<a href=\"https://colab.research.google.com/github/kincyc/541/blob/master/Untitled0.ipynb\" target=\"_parent\"><img src=\"https://colab.research.google.com/assets/colab-badge.svg\" alt=\"Open In Colab\"/></a>"
      ]
    },
    {
      "cell_type": "code",
      "source": [
        "from google.colab import drive\n",
        "import os\n",
        "\n",
        "drive.mount('/content/drive')\n"
      ],
      "metadata": {
        "colab": {
          "base_uri": "https://localhost:8080/"
        },
        "id": "X_jiOqhshaWy",
        "outputId": "c7ea4247-a146-4043-91ab-de12b1ae610f"
      },
      "execution_count": 8,
      "outputs": [
        {
          "output_type": "stream",
          "name": "stdout",
          "text": [
            "Drive already mounted at /content/drive; to attempt to forcibly remount, call drive.mount(\"/content/drive\", force_remount=True).\n"
          ]
        }
      ]
    },
    {
      "cell_type": "code",
      "source": [
        "with open(\"/content/drive/My Drive/env_vars.sh\", 'r') as f:\n",
        "    print(f.read())"
      ],
      "metadata": {
        "id": "xG5Z-UcJkLdV"
      },
      "execution_count": null,
      "outputs": []
    },
    {
      "cell_type": "markdown",
      "source": [
        "### Interview Library Code"
      ],
      "metadata": {
        "id": "v41DZjaGYrND"
      }
    },
    {
      "cell_type": "code",
      "source": [
        "import openai\n",
        "import os, sys, argparse, random, logging, requests, time, re\n",
        "import json\n",
        "from faker import Faker\n",
        "\n",
        "def parse_arguments():\n",
        "\tparser = argparse.ArgumentParser()\n",
        "\tparser.add_argument(\"--persona\", choices=[\"new\", \"last\", \"none\"], default=\"none\", help=\"specify persona: 'new', 'last', 'none'. If 'none' is selected (or a value is not selected), it will default to the respondent.json\")\n",
        "\tparser.add_argument(\"--logging\", help=\"Set the logging level\")\n",
        "\tparser.add_argument(\"--job\", default=None, help=\"provides profession for new personas\")\n",
        "\tparser.add_argument(\"--study\", action=\"store_true\", help=\"Indicates whether the study is turned on\")\n",
        "\targs = parser.parse_args()\n",
        "\treturn args\n",
        "\n",
        "def setup_logging(args):\n",
        "\n",
        "\t# Set the logging level based on the command-line argument\n",
        "\tif args.logging:\n",
        "\t\tlog_level = getattr(logging, args.logging.upper(), None)\n",
        "\t\tif not isinstance(log_level, int):\n",
        "\t\t\traise ValueError(\"Invalid logging level: %s\" % args.logging)\n",
        "\telse:\n",
        "\t\tlog_level = logging.INFO\n",
        "\n",
        "\t# Configure the root logger and console handler\n",
        "\troot_logger = logging.getLogger()\n",
        "\troot_logger.setLevel(log_level)\n",
        "\n",
        "\t# Create the console handler\n",
        "\tconsole_handler = logging.StreamHandler()\n",
        "\tconsole_handler.setLevel(log_level)\n",
        "\tformatter = logging.Formatter('%(levelname)s:%(lineno)d - %(message)s')\n",
        "\tconsole_handler.setFormatter(formatter)\n",
        "\n",
        "\t# Add the console handler to the root logger\n",
        "\troot_logger.addHandler(console_handler)\n",
        "\n",
        "\tformatter = logging.Formatter('%(levelname)s:%(lineno)d - %(message)s')\n",
        "\n",
        "\tlogging.getLogger(\"sys\").setLevel(logging.WARNING)\n",
        "\tlogging.getLogger(\"os\").setLevel(logging.WARNING)\n",
        "\tlogging.getLogger(\"selenium\").setLevel(logging.WARNING)\n",
        "\tlogging.getLogger(\"requests\").setLevel(logging.WARNING)\n",
        "\tlogging.getLogger(\"openai\").setLevel(logging.WARNING)\n",
        "\tlogging.getLogger(\"time\").setLevel(logging.WARNING)\n",
        "\tlogging.getLogger(\"urllib3\").setLevel(logging.WARNING)\n",
        "\tlogging.getLogger(\"json\").setLevel(logging.WARNING)\n",
        "\tlogging.getLogger(\"faker\").setLevel(logging.WARNING)\n",
        "\n",
        "def log_json_to_file(content, logfile):\n",
        "\tjson_str = json.dumps(content)\n",
        "\t# Write the JSON string to the file\n",
        "\twith open(logfile, \"a\") as file:\n",
        "\t\tfile.write(\"\\n%s\" % json_str)\n",
        "\t\tlogging.debug(\"wrote persona to logfile: %s\" % logfile)\n",
        "\treturn True\n",
        "\n",
        "def load_persona_prompt(filename):\n",
        "\twith open(filename, \"r\") as file:\n",
        "\t\tjson_content = file.read()\n",
        "\tlogging.debug(\"loaded %s config\" % filename)\n",
        "\tlogging.debug(json_content)\n",
        "\treturn json.loads(json_content)\n",
        "\n",
        "def load_persona_last_prompt(filename):\n",
        "\n",
        "\twith open(filename, \"r\") as file:\n",
        "\t\t# Read all lines and get the last line\n",
        "\t\tlast_line = file.readlines()[-1].strip()\n",
        "\treturn json.loads(last_line)\n",
        "\n",
        "def setup_persona_creation_messages(messages, job=None):\n",
        "\n",
        "\tlogging.debug(\"generating random persona\")\n",
        "\n",
        "\tcountries = [\n",
        "\t'United States', 'Canada', 'United Kingdom', 'Germany', 'France', 'Italy',\n",
        "\t'Spain', 'Netherlands', 'Sweden', 'Norway', 'Denmark', 'Finland',\n",
        "\t'Belgium', 'Switzerland', 'Austria', 'Ireland', 'Australia', 'New Zealand']\n",
        "\t# Generate a random country origin with bias\n",
        "\tcountry = random.choices(countries, weights=[5, 5, 4, 3, 3, 2, 2, 2, 2, 2, 2, 2, 2, 1, 1, 1, 1, 1])[0]\n",
        "\tif job:\n",
        "\t\tprofession = \"and works as a %s\" % job\n",
        "\telse:\n",
        "\t\tprofession = \"\"\n",
        "\tage = random.randint(21, 55)\n",
        "\tgender = random.choice([\"male\", \"female\"])\n",
        "\n",
        "\tmessages[1]['content'] = messages[1]['content'].replace(\"%%AGE%%\", str(age))\n",
        "\tmessages[1]['content'] = messages[1]['content'].replace(\"%%GENDER%%\", gender)\n",
        "\tmessages[1]['content'] = messages[1]['content'].replace(\"%%COUNTRY%%\", country)\n",
        "\tmessages[1]['content'] = messages[1]['content'].replace(\"%%JOB%%\", profession)\n",
        "\n",
        "\tlogging.debug(\"persona request: %s\", json.dumps(messages, indent=4))\n",
        "\treturn messages\n",
        "\n",
        "def create_persona_creation_prompt(persona):\n",
        "\n",
        "\tlogging.debug(\"We are using this persona to generate the prompt.\\n%s\" % json.dumps(persona, indent=4))\n",
        "\tcontent = \"you are role playing as someone named \" + persona[\"name\"]\n",
        "\tmessages = [({\"role\": \"system\", \"content\": content} )]\n",
        "\tmessages.append({\"role\": \"user\", \"content\": persona[\"description\"]})\n",
        "\tmessages.append({\"role\": \"user\", \"content\": \"Don't use unnecessary words or sentences. Don't ever refer to yourself or ask questions. Just answer any question that are asked of you.\"})\n",
        "\tlogging.debug(\"PERSONA PROMPT\\n\" + json.dumps(messages, indent=4))\n",
        "\tif (log_json_to_file(messages, \"persona.log\")):\n",
        "\t\treturn messages\n",
        "\telse:\n",
        "\t\tlogging.error(\"problem logging to persona log\")\n",
        "\n",
        "def genfakename():\n",
        "\t# Create an instance of the Faker class\n",
        "\tfake = Faker()\n",
        "\tfirst_name = fake.first_name()\n",
        "\tlast_name = fake.last_name()\n",
        "\treturn \"gen \" + first_name + \" \" + last_name\n",
        "\n",
        "def chat_with_api(messages, temp, tokens):\n",
        "\tresponse = openai.ChatCompletion.create(\n",
        "\t\tmodel=\"gpt-3.5-turbo-0301\",\n",
        "\t\tmessages=messages,\n",
        "\t\tstream=False,\n",
        "\t\tmax_tokens=tokens,\n",
        "\t\tn=1,\n",
        "\t\ttemperature=temp)\n",
        "\tif response.choices:\n",
        "\t\tanswer = response.choices[0].message.content.strip()\n",
        "\t\tmessages.append({\"role\": \"assistant\", \"content\": answer})\n",
        "\t\treturn messages\n",
        "\telse:\n",
        "\t\tlogging.warning(\"response from OpenAI: %s\" % json.dumps(response, indent=4))\n",
        "\t\texit()\n",
        "\t\treturn False\n",
        "\n",
        "\treturn None\n",
        "\n",
        "def create_summary_prompt(messages, summary):\n",
        "\n",
        "\tsummary_string = \"\"\n",
        "\tfor item in summary:\n",
        "\t\tif 'question' in item:\n",
        "\t\t\tsummary_string += f\"QUESTION: {item['question']}\\n\"\n",
        "\t\tif 'answer' in item:\n",
        "\t\t\tsummary_string += f\"ANSWER: {item['answer']}\\n\"\n",
        "\n",
        "\tcontent = \"please summarize the following interview in JSON format. you will include elements for the respondent's name (if known), profession, narrative and attribute list: %s\" % summary_string\n",
        "\tmessages.append({\"role\": \"user\", \"content\": content})\n",
        "\treturn messages\n",
        "\n",
        "def create_study_prompt(messages):\n",
        "\n",
        "\tfilename = \"study.log\"  # Path to the file\n",
        "\tstudies = []\n",
        "\twith open(filename, \"r\") as file:\n",
        "\t\tfor line in file:\n",
        "\t\t\tline = line.strip()\n",
        "\t\t\tif line:\n",
        "\t\t\t\tobj = json.loads(line)\n",
        "\t\t\t\tstudies.append(obj)\n",
        "# \tlogging.debug(\"STUDYLOG %s\" % data)\n",
        "\tnewcontent = messages[-1]['content']\n",
        "\tnewcontent += json.dumps(studies)\n",
        "\tmessages[-1]['content'] = newcontent\n",
        "\treturn messages"
      ],
      "metadata": {
        "id": "I2Z_BUL0ev8y"
      },
      "execution_count": null,
      "outputs": []
    },
    {
      "cell_type": "markdown",
      "source": [
        "### Main"
      ],
      "metadata": {
        "id": "E_5Z4SrvfI9H"
      }
    },
    {
      "cell_type": "code",
      "source": [],
      "metadata": {
        "id": "BfeyZ89DfR-j"
      },
      "execution_count": null,
      "outputs": []
    }
  ]
}